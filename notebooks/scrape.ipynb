{
 "cells": [
  {
   "cell_type": "code",
   "execution_count": 65,
   "id": "4c764726",
   "metadata": {},
   "outputs": [],
   "source": [
    "import requests\n",
    "import re\n",
    "import html\n",
    "from bs4 import BeautifulSoup\n",
    "from tqdm import tqdm\n",
    "import pandas as pd\n",
    "import time\n",
    "import os\n",
    "import random\n",
    "import json\n",
    "\n",
    "\n",
    "BASE_URL = \"https://www.gob.mx\"\n",
    "ARCHIVE_URL = f\"{BASE_URL}/presidencia/es/archivo/articulos?filter_origin=archive&idiom=es&order=DESC&page=\"\n"
   ]
  },
  {
   "cell_type": "code",
   "execution_count": 57,
   "id": "2e77e167",
   "metadata": {},
   "outputs": [],
   "source": [
    "def get_articles_from_page(page_num):\n",
    "    \"\"\"\n",
    "    Extract clean titles, URLs, and dates from Gob.mx dynamic HTML.\n",
    "    Args:\n",
    "        page_num (int): Page number to scrape.\n",
    "    Returns:\n",
    "        list of dict: Each dict contains 'title', 'url', and 'date' keys\n",
    "    \"\"\"\n",
    "    url = f\"{ARCHIVE_URL}{page_num}\"\n",
    "    r = requests.get(url)\n",
    "    r.raise_for_status()\n",
    "    text = r.text\n",
    "\n",
    "    # Extract JS-embedded HTML fragments\n",
    "    fragments = re.findall(r\"\\$\\('#prensa'\\)\\.append\\('(.+?)'\\);\", text, flags=re.DOTALL)\n",
    "\n",
    "    articles_out = []\n",
    "\n",
    "    for frag in fragments:\n",
    "        # Step 1: Decode HTML entities (e.g. &lt;, &quot;)\n",
    "        frag_clean = html.unescape(frag)\n",
    "        # Step 2: Replace escaped quotes \\\" → \"\n",
    "        frag_clean = frag_clean.replace('\\\\\"', '\"').replace(\"\\\\'\", \"'\")\n",
    "        # Step 3: Remove stray backslashes that break tags\n",
    "        frag_clean = frag_clean.replace(\"\\\\n\", \"\").replace(\"\\\\\", \"\")\n",
    "        # Step 4: Parse\n",
    "        soup = BeautifulSoup(frag_clean, \"html.parser\")\n",
    "\n",
    "        # Extract all article cards\n",
    "        for art in soup.find_all(\"article\"):\n",
    "            title_el = art.find(\"h2\")\n",
    "            link_el = art.find(\"a\", class_=\"small-link\")\n",
    "            date_el = art.find(\"time\")\n",
    "\n",
    "            title = title_el.get_text(strip=True) if title_el else None\n",
    "            date = date_el.get_text(strip=True) if date_el else None\n",
    "\n",
    "            # Some hrefs may end with ?idiom=es\n",
    "            if link_el and link_el.has_attr(\"href\"):\n",
    "                href = link_el[\"href\"].strip('\"')\n",
    "                if href.startswith(\"/\"):\n",
    "                    href = BASE_URL + href\n",
    "            else:\n",
    "                href = None\n",
    "\n",
    "            if title or href:\n",
    "                articles_out.append({\n",
    "                    \"title\": title,\n",
    "                    \"url\": href,\n",
    "                    \"date\": date\n",
    "                })\n",
    "    return articles_out"
   ]
  },
  {
   "cell_type": "code",
   "execution_count": null,
   "id": "8947a447",
   "metadata": {},
   "outputs": [],
   "source": [
    "def scrape_all_articles(max_pages=50, retries=3):\n",
    "    \"\"\"\n",
    "    Scrape articles from multiple pages and save metadata to CSV.\n",
    "    \n",
    "    Args:\n",
    "        max_pages (int): Maximum number of pages to scrape.\n",
    "\n",
    "    Returns:\n",
    "        pd.DataFrame: DataFrame containing all scraped articles.\n",
    "    \"\"\"\n",
    "    all_data = []\n",
    "    output_dir = os.path.join(\"..\", \"data\", \"raw\")\n",
    "    os.makedirs(output_dir, exist_ok=True)\n",
    "    output_path = os.path.join(output_dir, \"article_metadata.csv\")\n",
    "\n",
    "    headers = {\n",
    "        \"User-Agent\": \"Mozilla/5.0 (compatible; MañanerasScraper/1.0; +https://github.com/yourproject)\"\n",
    "    }\n",
    "\n",
    "    for page in tqdm(range(1, max_pages + 1)):\n",
    "        success = False\n",
    "        for attempt in range(retries):\n",
    "            try:\n",
    "                # Add headers to avoid being mistaken for a bot\n",
    "                page_data = get_articles_from_page(page)\n",
    "                if not page_data:\n",
    "                    print(f\"No more data after page {page}.\")\n",
    "                    success = True\n",
    "                    break\n",
    "\n",
    "                all_data.extend(page_data)\n",
    "                success = True\n",
    "                break  # Exit retry loop\n",
    "\n",
    "            except requests.exceptions.HTTPError as e:\n",
    "                print(f\"HTTP error on page {page}: {e}. Retrying ({attempt+1}/{retries})...\")\n",
    "                time.sleep(random.uniform(5, 10))  # wait before retry\n",
    "            except Exception as e:\n",
    "                print(f\"Other error on page {page}: {e}. Retrying...\")\n",
    "                time.sleep(random.uniform(5, 10))\n",
    "\n",
    "        if not success:\n",
    "            print(f\"Failed to fetch page {page} after {retries} retries. Skipping...\")\n",
    "            continue\n",
    "\n",
    "        # Random polite delay between pages\n",
    "        time.sleep(random.uniform(2, 5))\n",
    "\n",
    "        # Save progress every 5 pages\n",
    "        if page % 5 == 0:\n",
    "            df_tmp = pd.DataFrame(all_data)\n",
    "            df_tmp.to_csv(output_path, index=False)\n",
    "            print(f\"💾 Checkpoint saved at page {page}\")\n",
    "\n",
    "    # Final save\n",
    "    df = pd.DataFrame(all_data)\n",
    "    df.to_csv(output_path, index=False)\n",
    "    print(f\"\\n✅ Saved {len(df)} articles to {output_path}\")\n",
    "\n",
    "    return df"
   ]
  },
  {
   "cell_type": "code",
   "execution_count": null,
   "id": "fc1cf060",
   "metadata": {},
   "outputs": [
    {
     "name": "stderr",
     "output_type": "stream",
     "text": [
      "  8%|▊         | 5/59 [00:18<03:29,  3.88s/it]"
     ]
    },
    {
     "name": "stdout",
     "output_type": "stream",
     "text": [
      "💾 Checkpoint saved at page 5\n"
     ]
    },
    {
     "name": "stderr",
     "output_type": "stream",
     "text": [
      " 17%|█▋        | 10/59 [01:37<18:15, 22.36s/it]"
     ]
    },
    {
     "name": "stdout",
     "output_type": "stream",
     "text": [
      "💾 Checkpoint saved at page 10\n"
     ]
    },
    {
     "name": "stderr",
     "output_type": "stream",
     "text": [
      " 25%|██▌       | 15/59 [02:59<18:27, 25.17s/it]"
     ]
    },
    {
     "name": "stdout",
     "output_type": "stream",
     "text": [
      "💾 Checkpoint saved at page 15\n"
     ]
    },
    {
     "name": "stderr",
     "output_type": "stream",
     "text": [
      " 34%|███▍      | 20/59 [03:16<04:34,  7.04s/it]"
     ]
    },
    {
     "name": "stdout",
     "output_type": "stream",
     "text": [
      "💾 Checkpoint saved at page 20\n"
     ]
    },
    {
     "name": "stderr",
     "output_type": "stream",
     "text": [
      " 42%|████▏     | 25/59 [03:37<02:44,  4.85s/it]"
     ]
    },
    {
     "name": "stdout",
     "output_type": "stream",
     "text": [
      "💾 Checkpoint saved at page 25\n"
     ]
    },
    {
     "name": "stderr",
     "output_type": "stream",
     "text": [
      " 51%|█████     | 30/59 [03:54<01:43,  3.58s/it]"
     ]
    },
    {
     "name": "stdout",
     "output_type": "stream",
     "text": [
      "💾 Checkpoint saved at page 30\n"
     ]
    },
    {
     "name": "stderr",
     "output_type": "stream",
     "text": [
      " 59%|█████▉    | 35/59 [04:18<01:48,  4.53s/it]"
     ]
    },
    {
     "name": "stdout",
     "output_type": "stream",
     "text": [
      "💾 Checkpoint saved at page 35\n"
     ]
    },
    {
     "name": "stderr",
     "output_type": "stream",
     "text": [
      " 68%|██████▊   | 40/59 [05:38<04:07, 13.01s/it]"
     ]
    },
    {
     "name": "stdout",
     "output_type": "stream",
     "text": [
      "💾 Checkpoint saved at page 40\n"
     ]
    },
    {
     "name": "stderr",
     "output_type": "stream",
     "text": [
      " 76%|███████▋  | 45/59 [05:56<01:08,  4.90s/it]"
     ]
    },
    {
     "name": "stdout",
     "output_type": "stream",
     "text": [
      "💾 Checkpoint saved at page 45\n"
     ]
    },
    {
     "name": "stderr",
     "output_type": "stream",
     "text": [
      " 85%|████████▍ | 50/59 [06:16<00:36,  4.00s/it]"
     ]
    },
    {
     "name": "stdout",
     "output_type": "stream",
     "text": [
      "💾 Checkpoint saved at page 50\n"
     ]
    },
    {
     "name": "stderr",
     "output_type": "stream",
     "text": [
      " 93%|█████████▎| 55/59 [06:37<00:15,  3.92s/it]"
     ]
    },
    {
     "name": "stdout",
     "output_type": "stream",
     "text": [
      "💾 Checkpoint saved at page 55\n"
     ]
    },
    {
     "name": "stderr",
     "output_type": "stream",
     "text": [
      "100%|██████████| 59/59 [06:55<00:00,  7.04s/it]"
     ]
    },
    {
     "name": "stdout",
     "output_type": "stream",
     "text": [
      "\n",
      "✅ Saved 531 articles to ../data/raw/article_metadata.csv\n"
     ]
    },
    {
     "name": "stderr",
     "output_type": "stream",
     "text": [
      "\n"
     ]
    },
    {
     "data": {
      "text/html": [
       "<div>\n",
       "<style scoped>\n",
       "    .dataframe tbody tr th:only-of-type {\n",
       "        vertical-align: middle;\n",
       "    }\n",
       "\n",
       "    .dataframe tbody tr th {\n",
       "        vertical-align: top;\n",
       "    }\n",
       "\n",
       "    .dataframe thead th {\n",
       "        text-align: right;\n",
       "    }\n",
       "</style>\n",
       "<table border=\"1\" class=\"dataframe\">\n",
       "  <thead>\n",
       "    <tr style=\"text-align: right;\">\n",
       "      <th></th>\n",
       "      <th>title</th>\n",
       "      <th>url</th>\n",
       "      <th>date</th>\n",
       "    </tr>\n",
       "  </thead>\n",
       "  <tbody>\n",
       "    <tr>\n",
       "      <th>0</th>\n",
       "      <td>Versión estenográfica. Mensaje de la President...</td>\n",
       "      <td>https://www.gob.mx/presidencia/es/articulos/ve...</td>\n",
       "      <td>jueves, 16 de octubre de 2025Fecha de publicación</td>\n",
       "    </tr>\n",
       "    <tr>\n",
       "      <th>1</th>\n",
       "      <td>Versión estenográfica. Conferencia de prensa d...</td>\n",
       "      <td>https://www.gob.mx/presidencia/es/articulos/ve...</td>\n",
       "      <td>jueves, 16 de octubre de 2025Fecha de publicación</td>\n",
       "    </tr>\n",
       "    <tr>\n",
       "      <th>2</th>\n",
       "      <td>Versión estenográfica. Conferencia de prensa d...</td>\n",
       "      <td>https://www.gob.mx/presidencia/es/articulos/ve...</td>\n",
       "      <td>miércoles, 15 de octubre de 2025Fecha de publi...</td>\n",
       "    </tr>\n",
       "    <tr>\n",
       "      <th>3</th>\n",
       "      <td>Versión estenográfica. Conferencia de prensa d...</td>\n",
       "      <td>https://www.gob.mx/presidencia/es/articulos/ve...</td>\n",
       "      <td>martes, 14 de octubre de 2025Fecha de publicación</td>\n",
       "    </tr>\n",
       "    <tr>\n",
       "      <th>4</th>\n",
       "      <td>Versión estenográfica. Conferencia de prensa d...</td>\n",
       "      <td>https://www.gob.mx/presidencia/es/articulos/ve...</td>\n",
       "      <td>lunes, 13 de octubre de 2025Fecha de publicación</td>\n",
       "    </tr>\n",
       "    <tr>\n",
       "      <th>...</th>\n",
       "      <td>...</td>\n",
       "      <td>...</td>\n",
       "      <td>...</td>\n",
       "    </tr>\n",
       "    <tr>\n",
       "      <th>526</th>\n",
       "      <td>Versión estenográfica. Conferencia de prensa d...</td>\n",
       "      <td>https://www.gob.mx/presidencia/es/articulos/ve...</td>\n",
       "      <td>jueves, 03 de octubre de 2024Fecha de publicación</td>\n",
       "    </tr>\n",
       "    <tr>\n",
       "      <th>527</th>\n",
       "      <td>Versión estenográfica. Conferencia de prensa d...</td>\n",
       "      <td>https://www.gob.mx/presidencia/es/articulos/ve...</td>\n",
       "      <td>miércoles, 02 de octubre de 2024Fecha de publi...</td>\n",
       "    </tr>\n",
       "    <tr>\n",
       "      <th>528</th>\n",
       "      <td>Versión estenográfica. Toma de protesta ante e...</td>\n",
       "      <td>https://www.gob.mx/presidencia/es/articulos/ve...</td>\n",
       "      <td>martes, 01 de octubre de 2024Fecha de publicación</td>\n",
       "    </tr>\n",
       "    <tr>\n",
       "      <th>529</th>\n",
       "      <td>Versión estenográfica. Mensaje de la president...</td>\n",
       "      <td>https://www.gob.mx/presidencia/es/articulos/ve...</td>\n",
       "      <td>martes, 01 de octubre de 2024Fecha de publicación</td>\n",
       "    </tr>\n",
       "    <tr>\n",
       "      <th>530</th>\n",
       "      <td>Versión estenográfica. Toma de protesta de Cla...</td>\n",
       "      <td>https://www.gob.mx/presidencia/es/articulos/ve...</td>\n",
       "      <td>martes, 01 de octubre de 2024Fecha de publicación</td>\n",
       "    </tr>\n",
       "  </tbody>\n",
       "</table>\n",
       "<p>531 rows × 3 columns</p>\n",
       "</div>"
      ],
      "text/plain": [
       "                                                 title  \\\n",
       "0    Versión estenográfica. Mensaje de la President...   \n",
       "1    Versión estenográfica. Conferencia de prensa d...   \n",
       "2    Versión estenográfica. Conferencia de prensa d...   \n",
       "3    Versión estenográfica. Conferencia de prensa d...   \n",
       "4    Versión estenográfica. Conferencia de prensa d...   \n",
       "..                                                 ...   \n",
       "526  Versión estenográfica. Conferencia de prensa d...   \n",
       "527  Versión estenográfica. Conferencia de prensa d...   \n",
       "528  Versión estenográfica. Toma de protesta ante e...   \n",
       "529  Versión estenográfica. Mensaje de la president...   \n",
       "530  Versión estenográfica. Toma de protesta de Cla...   \n",
       "\n",
       "                                                   url  \\\n",
       "0    https://www.gob.mx/presidencia/es/articulos/ve...   \n",
       "1    https://www.gob.mx/presidencia/es/articulos/ve...   \n",
       "2    https://www.gob.mx/presidencia/es/articulos/ve...   \n",
       "3    https://www.gob.mx/presidencia/es/articulos/ve...   \n",
       "4    https://www.gob.mx/presidencia/es/articulos/ve...   \n",
       "..                                                 ...   \n",
       "526  https://www.gob.mx/presidencia/es/articulos/ve...   \n",
       "527  https://www.gob.mx/presidencia/es/articulos/ve...   \n",
       "528  https://www.gob.mx/presidencia/es/articulos/ve...   \n",
       "529  https://www.gob.mx/presidencia/es/articulos/ve...   \n",
       "530  https://www.gob.mx/presidencia/es/articulos/ve...   \n",
       "\n",
       "                                                  date  \n",
       "0    jueves, 16 de octubre de 2025Fecha de publicación  \n",
       "1    jueves, 16 de octubre de 2025Fecha de publicación  \n",
       "2    miércoles, 15 de octubre de 2025Fecha de publi...  \n",
       "3    martes, 14 de octubre de 2025Fecha de publicación  \n",
       "4     lunes, 13 de octubre de 2025Fecha de publicación  \n",
       "..                                                 ...  \n",
       "526  jueves, 03 de octubre de 2024Fecha de publicación  \n",
       "527  miércoles, 02 de octubre de 2024Fecha de publi...  \n",
       "528  martes, 01 de octubre de 2024Fecha de publicación  \n",
       "529  martes, 01 de octubre de 2024Fecha de publicación  \n",
       "530  martes, 01 de octubre de 2024Fecha de publicación  \n",
       "\n",
       "[531 rows x 3 columns]"
      ]
     },
     "execution_count": 59,
     "metadata": {},
     "output_type": "execute_result"
    }
   ],
   "source": [
    "#scrape_all_articles(max_pages=59)"
   ]
  },
  {
   "cell_type": "code",
   "execution_count": 60,
   "id": "df2b2503",
   "metadata": {},
   "outputs": [],
   "source": [
    "def get_transcript_structured(url):\n",
    "    headers = {\"User-Agent\": \"Mozilla/5.0 (compatible; MañanerasScraper/1.0)\"}\n",
    "    response = requests.get(url, headers=headers, timeout=15)\n",
    "    response.raise_for_status()\n",
    "    soup = BeautifulSoup(response.text, \"html.parser\")\n",
    "\n",
    "    content_div = soup.find(\"div\", class_=\"article-body\")\n",
    "    if not content_div:\n",
    "        return []\n",
    "\n",
    "    entries = []\n",
    "    for p in content_div.find_all(\"p\"):\n",
    "        # Get speaker (if present)\n",
    "        strong = p.find(\"strong\")\n",
    "        speaker = strong.get_text(strip=True) if strong else None\n",
    "        text = p.get_text(\" \", strip=True)\n",
    "        entries.append({\"speaker\": speaker, \"text\": text})\n",
    "    return entries\n"
   ]
  },
  {
   "cell_type": "code",
   "execution_count": 69,
   "id": "64294c6e",
   "metadata": {},
   "outputs": [],
   "source": [
    "import requests\n",
    "from bs4 import BeautifulSoup\n",
    "import time\n",
    "import random\n",
    "\n",
    "def get_transcript_structured(url, retries=3, backoff_factor=2):\n",
    "    \"\"\"\n",
    "    Extract structured transcript with speaker & text, with retry logic.\n",
    "\n",
    "    Args:\n",
    "        url (str): Article URL.\n",
    "        retries (int): Max number of retry attempts on failure.\n",
    "        backoff_factor (int): Multiplier for exponential backoff.\n",
    "    Returns:\n",
    "        list[dict]: [{'speaker': ..., 'text': ...}, ...]\n",
    "    \"\"\"\n",
    "    headers = {\"User-Agent\": \"Mozilla/5.0 (compatible; MañanerasScraper/1.0)\"}\n",
    "    attempt = 0\n",
    "\n",
    "    while attempt < retries:\n",
    "        try:\n",
    "            r = requests.get(url, headers=headers, timeout=20)\n",
    "            r.raise_for_status()\n",
    "            soup = BeautifulSoup(r.text, \"html.parser\")\n",
    "\n",
    "            content = soup.find(\"div\", class_=\"article-body\")\n",
    "            if not content:\n",
    "                print(f\"⚠️ No <div class='article-body'> found for {url}\")\n",
    "                return []\n",
    "\n",
    "            entries = []\n",
    "            for p in content.find_all(\"p\"):\n",
    "                strong = p.find(\"strong\")\n",
    "                speaker = strong.get_text(strip=True) if strong else None\n",
    "                text = p.get_text(\" \", strip=True)\n",
    "                if text:\n",
    "                    entries.append({\"speaker\": speaker, \"text\": text})\n",
    "\n",
    "            return entries  # success — exit function\n",
    "\n",
    "        except (requests.exceptions.Timeout, requests.exceptions.ConnectionError) as e:\n",
    "            wait = backoff_factor * (2 ** attempt) + random.uniform(0, 1)\n",
    "            print(f\"⏳ Timeout or connection error on {url} — retry {attempt+1}/{retries} after {wait:.1f}s\")\n",
    "            time.sleep(wait)\n",
    "            attempt += 1\n",
    "            continue\n",
    "\n",
    "        except requests.exceptions.HTTPError as e:\n",
    "            print(f\"⚠️ HTTP error {e} on {url} — skipping\")\n",
    "            return []\n",
    "\n",
    "        except Exception as e:\n",
    "            print(f\"⚠️ Unexpected error for {url}: {e}\")\n",
    "            return []\n",
    "\n",
    "    print(f\"❌ Failed after {retries} retries: {url}\")\n",
    "    return []\n"
   ]
  },
  {
   "cell_type": "code",
   "execution_count": 70,
   "id": "26bff97f",
   "metadata": {},
   "outputs": [
    {
     "name": "stderr",
     "output_type": "stream",
     "text": [
      "  2%|▏         | 11/531 [00:42<38:15,  4.41s/it]"
     ]
    },
    {
     "name": "stdout",
     "output_type": "stream",
     "text": [
      "💾 Checkpoint saved (10 articles)\n",
      "⏳ Timeout or connection error on https://www.gob.mx/presidencia/es/articulos/version-estenografica-conferencia-de-prensa-de-la-presidenta-claudia-sheinbaum-pardo-del-06-de-octubre-de-2025?idiom=es — retry 1/3 after 2.8s\n"
     ]
    },
    {
     "name": "stderr",
     "output_type": "stream",
     "text": [
      "  3%|▎         | 14/531 [01:16<1:02:45,  7.28s/it]"
     ]
    },
    {
     "name": "stdout",
     "output_type": "stream",
     "text": [
      "⏳ Timeout or connection error on https://www.gob.mx/presidencia/es/articulos/version-estenografica-conferencia-de-prensa-de-la-presidenta-claudia-sheinbaum-pardo-del-02-de-octubre-de-2025?idiom=es — retry 1/3 after 2.3s\n",
      "⏳ Timeout or connection error on https://www.gob.mx/presidencia/es/articulos/version-estenografica-conferencia-de-prensa-de-la-presidenta-claudia-sheinbaum-pardo-del-02-de-octubre-de-2025?idiom=es — retry 2/3 after 4.8s\n"
     ]
    },
    {
     "name": "stderr",
     "output_type": "stream",
     "text": [
      "  3%|▎         | 17/531 [02:16<1:43:55, 12.13s/it]"
     ]
    },
    {
     "name": "stdout",
     "output_type": "stream",
     "text": [
      "⚠️ HTTP error 404 Client Error: Not Found for url: https://www.gob.mx/presidencia/es/articulos/version-estenografica-supervision-tras-lluvias-en-oriente-de-la-zona-metropolitana-del-valle-de-mexico?idiom=es on https://www.gob.mx/presidencia/es/articulos/version-estenografica-supervision-tras-lluvias-en-oriente-de-la-zona-metropolitana-del-valle-de-mexico?idiom=es — skipping\n"
     ]
    },
    {
     "name": "stderr",
     "output_type": "stream",
     "text": [
      "  3%|▎         | 18/531 [02:19<1:19:51,  9.34s/it]"
     ]
    },
    {
     "name": "stdout",
     "output_type": "stream",
     "text": [
      "⚠️ HTTP error 404 Client Error: Not Found for url: https://www.gob.mx/presidencia/es/articulos/version-estenografica-conferencia-de-prensa-de-la-presidenta-claudia-sheinbaum-pardo-del-30-de-septiembre-de-2025?idiom=es on https://www.gob.mx/presidencia/es/articulos/version-estenografica-conferencia-de-prensa-de-la-presidenta-claudia-sheinbaum-pardo-del-30-de-septiembre-de-2025?idiom=es — skipping\n"
     ]
    },
    {
     "name": "stderr",
     "output_type": "stream",
     "text": [
      "  4%|▍         | 21/531 [02:29<46:30,  5.47s/it]  "
     ]
    },
    {
     "name": "stdout",
     "output_type": "stream",
     "text": [
      "💾 Checkpoint saved (20 articles)\n"
     ]
    },
    {
     "name": "stderr",
     "output_type": "stream",
     "text": [
      "  4%|▍         | 22/531 [02:34<43:22,  5.11s/it]"
     ]
    },
    {
     "name": "stdout",
     "output_type": "stream",
     "text": [
      "⚠️ HTTP error 404 Client Error: Not Found for url: https://www.gob.mx/presidencia/es/articulos/version-estenografica-la-transformacion-avanza-en-nayarit?idiom=es on https://www.gob.mx/presidencia/es/articulos/version-estenografica-la-transformacion-avanza-en-nayarit?idiom=es — skipping\n"
     ]
    },
    {
     "name": "stderr",
     "output_type": "stream",
     "text": [
      "  5%|▍         | 24/531 [02:42<40:37,  4.81s/it]"
     ]
    },
    {
     "name": "stdout",
     "output_type": "stream",
     "text": [
      "⚠️ HTTP error 404 Client Error: Not Found for url: https://www.gob.mx/presidencia/es/articulos/version-estenografica-la-transformacion-avanza-en-baja-california-sur?idiom=es on https://www.gob.mx/presidencia/es/articulos/version-estenografica-la-transformacion-avanza-en-baja-california-sur?idiom=es — skipping\n"
     ]
    },
    {
     "name": "stderr",
     "output_type": "stream",
     "text": [
      "  6%|▌         | 31/531 [03:13<35:45,  4.29s/it]"
     ]
    },
    {
     "name": "stdout",
     "output_type": "stream",
     "text": [
      "💾 Checkpoint saved (30 articles)\n"
     ]
    },
    {
     "name": "stderr",
     "output_type": "stream",
     "text": [
      "  8%|▊         | 41/531 [03:51<34:54,  4.27s/it]"
     ]
    },
    {
     "name": "stdout",
     "output_type": "stream",
     "text": [
      "💾 Checkpoint saved (40 articles)\n",
      "⏳ Timeout or connection error on https://www.gob.mx/presidencia/es/articulos/version-estenografica-conferencia-de-prensa-de-la-presidenta-claudia-sheinbaum-pardo-del-18-de-septiembre-de-2025?idiom=es — retry 1/3 after 2.4s\n"
     ]
    },
    {
     "name": "stderr",
     "output_type": "stream",
     "text": [
      " 10%|▉         | 51/531 [04:51<30:51,  3.86s/it]  "
     ]
    },
    {
     "name": "stdout",
     "output_type": "stream",
     "text": [
      "💾 Checkpoint saved (50 articles)\n"
     ]
    },
    {
     "name": "stderr",
     "output_type": "stream",
     "text": [
      " 11%|█▏        | 61/531 [05:32<33:04,  4.22s/it]"
     ]
    },
    {
     "name": "stdout",
     "output_type": "stream",
     "text": [
      "💾 Checkpoint saved (60 articles)\n"
     ]
    },
    {
     "name": "stderr",
     "output_type": "stream",
     "text": [
      " 12%|█▏        | 65/531 [05:51<36:01,  4.64s/it]"
     ]
    },
    {
     "name": "stdout",
     "output_type": "stream",
     "text": [
      "⏳ Timeout or connection error on https://www.gob.mx/presidencia/es/articulos/version-estenografica-la-transformacion-avanza-en-aguascalientes?idiom=es — retry 1/3 after 2.9s\n"
     ]
    },
    {
     "name": "stderr",
     "output_type": "stream",
     "text": [
      " 13%|█▎        | 71/531 [06:39<41:48,  5.45s/it]  "
     ]
    },
    {
     "name": "stdout",
     "output_type": "stream",
     "text": [
      "💾 Checkpoint saved (70 articles)\n"
     ]
    },
    {
     "name": "stderr",
     "output_type": "stream",
     "text": [
      " 14%|█▎        | 73/531 [06:48<37:21,  4.89s/it]"
     ]
    },
    {
     "name": "stdout",
     "output_type": "stream",
     "text": [
      "⏳ Timeout or connection error on https://www.gob.mx/presidencia/es/articulos/version-estenografica-primer-informe-de-gobierno-de-la-presidenta-claudia-sheinbaum-pardo-palacio-nacional?idiom=es — retry 1/3 after 2.1s\n"
     ]
    },
    {
     "name": "stderr",
     "output_type": "stream",
     "text": [
      " 15%|█▌        | 81/531 [07:46<35:33,  4.74s/it]  "
     ]
    },
    {
     "name": "stdout",
     "output_type": "stream",
     "text": [
      "💾 Checkpoint saved (80 articles)\n"
     ]
    },
    {
     "name": "stderr",
     "output_type": "stream",
     "text": [
      " 16%|█▌        | 84/531 [07:59<32:40,  4.39s/it]"
     ]
    },
    {
     "name": "stdout",
     "output_type": "stream",
     "text": [
      "⏳ Timeout or connection error on https://www.gob.mx/presidencia/es/articulos/version-estenografica-plan-de-justicia-para-el-pueblo-amuzgo-tlacoachistlahuaca-guerrero?idiom=es — retry 1/3 after 2.6s\n"
     ]
    },
    {
     "name": "stderr",
     "output_type": "stream",
     "text": [
      " 16%|█▋        | 87/531 [08:35<56:37,  7.65s/it]  "
     ]
    },
    {
     "name": "stdout",
     "output_type": "stream",
     "text": [
      "⚠️ HTTP error 404 Client Error: Not Found for url: https://www.gob.mx/presidencia/es/articulos/version-estenografica-inauguracion-hospital-regional-de-alta-especialidad-issste-primera-etapa-acapulco-guerrero?idiom=es on https://www.gob.mx/presidencia/es/articulos/version-estenografica-inauguracion-hospital-regional-de-alta-especialidad-issste-primera-etapa-acapulco-guerrero?idiom=es — skipping\n"
     ]
    },
    {
     "name": "stderr",
     "output_type": "stream",
     "text": [
      " 17%|█▋        | 88/531 [08:38<46:54,  6.35s/it]"
     ]
    },
    {
     "name": "stdout",
     "output_type": "stream",
     "text": [
      "⚠️ HTTP error 404 Client Error: Not Found for url: https://www.gob.mx/presidencia/es/articulos/version-estenografica-conferencia-de-prensa-de-la-presidenta-claudia-sheinbaum-pardo-del-22-de-agosto-de-2025?idiom=es on https://www.gob.mx/presidencia/es/articulos/version-estenografica-conferencia-de-prensa-de-la-presidenta-claudia-sheinbaum-pardo-del-22-de-agosto-de-2025?idiom=es — skipping\n"
     ]
    },
    {
     "name": "stderr",
     "output_type": "stream",
     "text": [
      " 17%|█▋        | 89/531 [08:43<44:12,  6.00s/it]"
     ]
    },
    {
     "name": "stdout",
     "output_type": "stream",
     "text": [
      "⏳ Timeout or connection error on https://www.gob.mx/presidencia/es/articulos/version-estenografica-conferencia-de-prensa-de-la-presidenta-claudia-sheinbaum-pardo-del-21-de-agosto-de-2025?idiom=es — retry 1/3 after 2.6s\n"
     ]
    },
    {
     "name": "stderr",
     "output_type": "stream",
     "text": [
      " 17%|█▋        | 91/531 [09:13<1:11:00,  9.68s/it]"
     ]
    },
    {
     "name": "stdout",
     "output_type": "stream",
     "text": [
      "💾 Checkpoint saved (90 articles)\n"
     ]
    },
    {
     "name": "stderr",
     "output_type": "stream",
     "text": [
      " 19%|█▉        | 101/531 [09:54<32:46,  4.57s/it] "
     ]
    },
    {
     "name": "stdout",
     "output_type": "stream",
     "text": [
      "💾 Checkpoint saved (100 articles)\n"
     ]
    },
    {
     "name": "stderr",
     "output_type": "stream",
     "text": [
      " 21%|██        | 111/531 [10:36<29:05,  4.15s/it]"
     ]
    },
    {
     "name": "stdout",
     "output_type": "stream",
     "text": [
      "💾 Checkpoint saved (110 articles)\n"
     ]
    },
    {
     "name": "stderr",
     "output_type": "stream",
     "text": [
      " 21%|██        | 112/531 [10:39<27:10,  3.89s/it]"
     ]
    },
    {
     "name": "stdout",
     "output_type": "stream",
     "text": [
      "⏳ Timeout or connection error on https://www.gob.mx/presidencia/es/articulos/version-estenografica-faispiam-presupuesto-directo-para-pueblos-indigenas-y-afromexicanos-amealco-queretaro?idiom=es — retry 1/3 after 2.1s\n"
     ]
    },
    {
     "name": "stderr",
     "output_type": "stream",
     "text": [
      " 23%|██▎       | 121/531 [11:38<28:26,  4.16s/it]  "
     ]
    },
    {
     "name": "stdout",
     "output_type": "stream",
     "text": [
      "💾 Checkpoint saved (120 articles)\n"
     ]
    },
    {
     "name": "stderr",
     "output_type": "stream",
     "text": [
      " 24%|██▍       | 129/531 [12:17<31:28,  4.70s/it]"
     ]
    },
    {
     "name": "stdout",
     "output_type": "stream",
     "text": [
      "⏳ Timeout or connection error on https://www.gob.mx/presidencia/es/articulos/version-estenografica-salud-casa-por-casa-acapulco-guerrero?idiom=es — retry 1/3 after 3.0s\n"
     ]
    },
    {
     "name": "stderr",
     "output_type": "stream",
     "text": [
      " 25%|██▍       | 131/531 [12:47<59:15,  8.89s/it]  "
     ]
    },
    {
     "name": "stdout",
     "output_type": "stream",
     "text": [
      "💾 Checkpoint saved (130 articles)\n",
      "⏳ Timeout or connection error on https://www.gob.mx/presidencia/es/articulos/version-estenografica-ampliacion-del-area-de-hemodialisis-hospital-de-alta-especialidad-imss-bienestar-centro-tabasco?idiom=es — retry 1/3 after 3.0s\n",
      "⏳ Timeout or connection error on https://www.gob.mx/presidencia/es/articulos/version-estenografica-ampliacion-del-area-de-hemodialisis-hospital-de-alta-especialidad-imss-bienestar-centro-tabasco?idiom=es — retry 2/3 after 4.7s\n"
     ]
    },
    {
     "name": "stderr",
     "output_type": "stream",
     "text": [
      " 26%|██▌       | 136/531 [13:55<54:16,  8.24s/it]  "
     ]
    },
    {
     "name": "stdout",
     "output_type": "stream",
     "text": [
      "⏳ Timeout or connection error on https://www.gob.mx/presidencia/es/articulos/version-estenografica-mando-unico-en-el-oriente-del-estado-de-mexico-nezahualcoyotl-estado-de-mexico?idiom=es — retry 1/3 after 2.5s\n"
     ]
    },
    {
     "name": "stderr",
     "output_type": "stream",
     "text": [
      " 27%|██▋       | 141/531 [14:39<40:35,  6.25s/it]  "
     ]
    },
    {
     "name": "stdout",
     "output_type": "stream",
     "text": [
      "💾 Checkpoint saved (140 articles)\n"
     ]
    },
    {
     "name": "stderr",
     "output_type": "stream",
     "text": [
      " 28%|██▊       | 151/531 [15:27<30:02,  4.74s/it]"
     ]
    },
    {
     "name": "stdout",
     "output_type": "stream",
     "text": [
      "💾 Checkpoint saved (150 articles)\n"
     ]
    },
    {
     "name": "stderr",
     "output_type": "stream",
     "text": [
      " 30%|██▉       | 159/531 [15:54<22:56,  3.70s/it]"
     ]
    },
    {
     "name": "stdout",
     "output_type": "stream",
     "text": [
      "⏳ Timeout or connection error on https://www.gob.mx/presidencia/es/articulos/version-estenografica-conferencia-de-prensa-de-la-presidenta-claudia-sheinbaum-pardo-del-03-de-julio-de-2025?idiom=es — retry 1/3 after 2.0s\n"
     ]
    },
    {
     "name": "stderr",
     "output_type": "stream",
     "text": [
      " 30%|███       | 161/531 [16:24<52:47,  8.56s/it]  "
     ]
    },
    {
     "name": "stdout",
     "output_type": "stream",
     "text": [
      "💾 Checkpoint saved (160 articles)\n"
     ]
    },
    {
     "name": "stderr",
     "output_type": "stream",
     "text": [
      " 31%|███       | 163/531 [16:33<39:30,  6.44s/it]"
     ]
    },
    {
     "name": "stdout",
     "output_type": "stream",
     "text": [
      "⏳ Timeout or connection error on https://www.gob.mx/presidencia/es/articulos/version-estenografica-6-aniversario-de-la-guardia-nacional-ciudad-de-mexico?idiom=es — retry 1/3 after 2.7s\n"
     ]
    },
    {
     "name": "stderr",
     "output_type": "stream",
     "text": [
      " 31%|███▏      | 167/531 [17:14<44:30,  7.34s/it]  "
     ]
    },
    {
     "name": "stdout",
     "output_type": "stream",
     "text": [
      "⏳ Timeout or connection error on https://www.gob.mx/presidencia/es/articulos/version-estenografica-salud-casa-por-casa-aquila-michoacan?idiom=es — retry 1/3 after 2.5s\n"
     ]
    },
    {
     "name": "stderr",
     "output_type": "stream",
     "text": [
      " 32%|███▏      | 171/531 [17:51<41:22,  6.90s/it]  "
     ]
    },
    {
     "name": "stdout",
     "output_type": "stream",
     "text": [
      "💾 Checkpoint saved (170 articles)\n"
     ]
    },
    {
     "name": "stderr",
     "output_type": "stream",
     "text": [
      " 33%|███▎      | 174/531 [18:02<28:33,  4.80s/it]"
     ]
    },
    {
     "name": "stdout",
     "output_type": "stream",
     "text": [
      "⏳ Timeout or connection error on https://www.gob.mx/presidencia/es/articulos/version-estenografica-conferencia-de-prensa-de-la-presidenta-claudia-sheinbaum-pardo-del-24-de-junio-de-2025?idiom=es — retry 1/3 after 2.2s\n"
     ]
    },
    {
     "name": "stderr",
     "output_type": "stream",
     "text": [
      " 34%|███▍      | 181/531 [18:53<26:19,  4.51s/it]  "
     ]
    },
    {
     "name": "stdout",
     "output_type": "stream",
     "text": [
      "💾 Checkpoint saved (180 articles)\n"
     ]
    },
    {
     "name": "stderr",
     "output_type": "stream",
     "text": [
      " 35%|███▌      | 187/531 [19:19<25:25,  4.43s/it]"
     ]
    },
    {
     "name": "stdout",
     "output_type": "stream",
     "text": [
      "⏳ Timeout or connection error on https://www.gob.mx/presidencia/es/articulos/version-estenografica-faispiam-presupuesto-directo-para-pueblos-indigenas-y-afromexicanos?idiom=es — retry 1/3 after 2.2s\n"
     ]
    },
    {
     "name": "stderr",
     "output_type": "stream",
     "text": [
      " 36%|███▌      | 191/531 [19:57<37:02,  6.54s/it]  "
     ]
    },
    {
     "name": "stdout",
     "output_type": "stream",
     "text": [
      "💾 Checkpoint saved (190 articles)\n"
     ]
    },
    {
     "name": "stderr",
     "output_type": "stream",
     "text": [
      " 37%|███▋      | 199/531 [20:33<26:19,  4.76s/it]"
     ]
    },
    {
     "name": "stdout",
     "output_type": "stream",
     "text": [
      "⏳ Timeout or connection error on https://www.gob.mx/presidencia/es/articulos/version-estenografica-asamblea-del-faispiam-en-coatetelco-morelos?idiom=es — retry 1/3 after 2.1s\n"
     ]
    },
    {
     "name": "stderr",
     "output_type": "stream",
     "text": [
      " 38%|███▊      | 201/531 [21:04<50:30,  9.18s/it]  "
     ]
    },
    {
     "name": "stdout",
     "output_type": "stream",
     "text": [
      "💾 Checkpoint saved (200 articles)\n",
      "⏳ Timeout or connection error on https://www.gob.mx/presidencia/es/articulos/version-estenografica-inauguracion-del-centro-libre-para-las-mujeres-temixco-morelos?idiom=es — retry 1/3 after 2.8s\n"
     ]
    },
    {
     "name": "stderr",
     "output_type": "stream",
     "text": [
      " 40%|███▉      | 210/531 [22:04<23:10,  4.33s/it]  "
     ]
    },
    {
     "name": "stdout",
     "output_type": "stream",
     "text": [
      "⏳ Timeout or connection error on https://www.gob.mx/presidencia/es/articulos/version-estenografica-mensaje-de-la-presidenta-de-mexico-claudia-sheinbaum-pardo?idiom=es — retry 1/3 after 2.5s\n",
      "⚠️ HTTP error 404 Client Error: Not Found for url: https://www.gob.mx/presidencia/es/articulos/version-estenografica-mensaje-de-la-presidenta-de-mexico-claudia-sheinbaum-pardo?idiom=es on https://www.gob.mx/presidencia/es/articulos/version-estenografica-mensaje-de-la-presidenta-de-mexico-claudia-sheinbaum-pardo?idiom=es — skipping\n"
     ]
    },
    {
     "name": "stderr",
     "output_type": "stream",
     "text": [
      " 40%|███▉      | 211/531 [22:31<59:10, 11.10s/it]"
     ]
    },
    {
     "name": "stdout",
     "output_type": "stream",
     "text": [
      "💾 Checkpoint saved (210 articles)\n",
      "⚠️ HTTP error 404 Client Error: Not Found for url: https://www.gob.mx/presidencia/es/articulos/version-estenografica-conferencia-de-prensa-de-la-presidenta-claudia-sheinbaum-pardo-del-30-de-mayo-de-2025?idiom=es on https://www.gob.mx/presidencia/es/articulos/version-estenografica-conferencia-de-prensa-de-la-presidenta-claudia-sheinbaum-pardo-del-30-de-mayo-de-2025?idiom=es — skipping\n"
     ]
    },
    {
     "name": "stderr",
     "output_type": "stream",
     "text": [
      " 40%|████      | 215/531 [22:47<29:31,  5.61s/it]"
     ]
    },
    {
     "name": "stdout",
     "output_type": "stream",
     "text": [
      "⚠️ HTTP error 404 Client Error: Not Found for url: https://www.gob.mx/presidencia/es/articulos/version-estenografica-conferencia-de-prensa-de-la-presidenta-claudia-sheinbaum-pardo-del-26-de-mayo-de-2025?idiom=es on https://www.gob.mx/presidencia/es/articulos/version-estenografica-conferencia-de-prensa-de-la-presidenta-claudia-sheinbaum-pardo-del-26-de-mayo-de-2025?idiom=es — skipping\n"
     ]
    },
    {
     "name": "stderr",
     "output_type": "stream",
     "text": [
      " 41%|████      | 218/531 [23:00<25:14,  4.84s/it]"
     ]
    },
    {
     "name": "stdout",
     "output_type": "stream",
     "text": [
      "⚠️ HTTP error 404 Client Error: Not Found for url: https://www.gob.mx/presidencia/es/articulos/version-estenografica-proyectos-prioritarios-de-san-luis-potosi-villa-hidalgo-san-luis-potosi?idiom=es on https://www.gob.mx/presidencia/es/articulos/version-estenografica-proyectos-prioritarios-de-san-luis-potosi-villa-hidalgo-san-luis-potosi?idiom=es — skipping\n"
     ]
    },
    {
     "name": "stderr",
     "output_type": "stream",
     "text": [
      " 42%|████▏     | 221/531 [23:13<23:55,  4.63s/it]"
     ]
    },
    {
     "name": "stdout",
     "output_type": "stream",
     "text": [
      "💾 Checkpoint saved (220 articles)\n"
     ]
    },
    {
     "name": "stderr",
     "output_type": "stream",
     "text": [
      " 43%|████▎     | 229/531 [23:47<19:09,  3.81s/it]"
     ]
    },
    {
     "name": "stdout",
     "output_type": "stream",
     "text": [
      "⏳ Timeout or connection error on https://www.gob.mx/presidencia/es/articulos/version-estenografica-encuentro-con-familiares-de-mineros-de-pasta-de-conchos?idiom=es — retry 1/3 after 2.8s\n"
     ]
    },
    {
     "name": "stderr",
     "output_type": "stream",
     "text": [
      " 44%|████▎     | 231/531 [24:17<42:50,  8.57s/it]"
     ]
    },
    {
     "name": "stdout",
     "output_type": "stream",
     "text": [
      "💾 Checkpoint saved (230 articles)\n"
     ]
    },
    {
     "name": "stderr",
     "output_type": "stream",
     "text": [
      " 44%|████▍     | 236/531 [24:41<26:20,  5.36s/it]"
     ]
    },
    {
     "name": "stdout",
     "output_type": "stream",
     "text": [
      "⏳ Timeout or connection error on https://www.gob.mx/presidencia/es/articulos/version-estenografica-conferencia-de-prensa-de-la-presidenta-claudia-sheinbaum-pardo-del-12-de-mayo-de-2025?idiom=es — retry 1/3 after 2.4s\n"
     ]
    },
    {
     "name": "stderr",
     "output_type": "stream",
     "text": [
      " 45%|████▌     | 241/531 [25:26<31:50,  6.59s/it]"
     ]
    },
    {
     "name": "stdout",
     "output_type": "stream",
     "text": [
      "💾 Checkpoint saved (240 articles)\n"
     ]
    },
    {
     "name": "stderr",
     "output_type": "stream",
     "text": [
      " 47%|████▋     | 251/531 [26:12<21:45,  4.66s/it]"
     ]
    },
    {
     "name": "stdout",
     "output_type": "stream",
     "text": [
      "💾 Checkpoint saved (250 articles)\n"
     ]
    },
    {
     "name": "stderr",
     "output_type": "stream",
     "text": [
      " 48%|████▊     | 256/531 [26:35<20:27,  4.46s/it]"
     ]
    },
    {
     "name": "stdout",
     "output_type": "stream",
     "text": [
      "⏳ Timeout or connection error on https://www.gob.mx/presidencia/es/articulos/version-estenografica-inicio-de-la-construccion-del-tren-mexico-queretaro-pedro-escobedo-queretaro?idiom=es — retry 1/3 after 2.5s\n"
     ]
    },
    {
     "name": "stderr",
     "output_type": "stream",
     "text": [
      " 49%|████▉     | 261/531 [27:24<31:02,  6.90s/it]"
     ]
    },
    {
     "name": "stdout",
     "output_type": "stream",
     "text": [
      "💾 Checkpoint saved (260 articles)\n"
     ]
    },
    {
     "name": "stderr",
     "output_type": "stream",
     "text": [
      " 51%|█████     | 271/531 [28:08<17:48,  4.11s/it]"
     ]
    },
    {
     "name": "stdout",
     "output_type": "stream",
     "text": [
      "💾 Checkpoint saved (270 articles)\n"
     ]
    },
    {
     "name": "stderr",
     "output_type": "stream",
     "text": [
      " 53%|█████▎    | 281/531 [28:48<16:24,  3.94s/it]"
     ]
    },
    {
     "name": "stdout",
     "output_type": "stream",
     "text": [
      "💾 Checkpoint saved (280 articles)\n",
      "⏳ Timeout or connection error on https://www.gob.mx/presidencia/es/articulos/version-estenografica-conferencia-de-prensa-de-la-presidenta-claudia-sheinbaum-pardo-del-7-de-abril-de-2025?idiom=es — retry 1/3 after 2.3s\n"
     ]
    },
    {
     "name": "stderr",
     "output_type": "stream",
     "text": [
      " 55%|█████▍    | 291/531 [29:51<15:57,  3.99s/it]"
     ]
    },
    {
     "name": "stdout",
     "output_type": "stream",
     "text": [
      "💾 Checkpoint saved (290 articles)\n"
     ]
    },
    {
     "name": "stderr",
     "output_type": "stream",
     "text": [
      " 56%|█████▌    | 295/531 [30:08<16:26,  4.18s/it]"
     ]
    },
    {
     "name": "stdout",
     "output_type": "stream",
     "text": [
      "⏳ Timeout or connection error on https://www.gob.mx/presidencia/es/articulos/version-estenografica-conferencia-de-prensa-de-la-presidenta-claudia-sheinbaum-pardo-del-28-de-marzo-de-2025?idiom=es — retry 1/3 after 2.4s\n"
     ]
    },
    {
     "name": "stderr",
     "output_type": "stream",
     "text": [
      " 57%|█████▋    | 301/531 [30:59<23:08,  6.04s/it]"
     ]
    },
    {
     "name": "stdout",
     "output_type": "stream",
     "text": [
      "💾 Checkpoint saved (300 articles)\n"
     ]
    },
    {
     "name": "stderr",
     "output_type": "stream",
     "text": [
      " 58%|█████▊    | 308/531 [31:30<15:05,  4.06s/it]"
     ]
    },
    {
     "name": "stdout",
     "output_type": "stream",
     "text": [
      "⏳ Timeout or connection error on https://www.gob.mx/presidencia/es/articulos/version-estenografica-81-asamblea-anual-a-camara-de-la-industria-de-transformacion-nuevo-leon-caintra?idiom=es — retry 1/3 after 2.6s\n",
      "⏳ Timeout or connection error on https://www.gob.mx/presidencia/es/articulos/version-estenografica-81-asamblea-anual-a-camara-de-la-industria-de-transformacion-nuevo-leon-caintra?idiom=es — retry 2/3 after 4.6s\n"
     ]
    },
    {
     "name": "stderr",
     "output_type": "stream",
     "text": [
      " 59%|█████▊    | 311/531 [32:31<41:28, 11.31s/it]  "
     ]
    },
    {
     "name": "stdout",
     "output_type": "stream",
     "text": [
      "💾 Checkpoint saved (310 articles)\n"
     ]
    },
    {
     "name": "stderr",
     "output_type": "stream",
     "text": [
      " 60%|██████    | 319/531 [33:09<17:02,  4.83s/it]"
     ]
    },
    {
     "name": "stdout",
     "output_type": "stream",
     "text": [
      "⚠️ HTTP error 404 Client Error: Not Found for url: https://www.gob.mx/presidencia/es/articulos/version-estenografica-conferencia-mundial-de-mujeres-parlamentarias?idiom=es on https://www.gob.mx/presidencia/es/articulos/version-estenografica-conferencia-mundial-de-mujeres-parlamentarias?idiom=es — skipping\n"
     ]
    },
    {
     "name": "stderr",
     "output_type": "stream",
     "text": [
      " 60%|██████    | 320/531 [33:13<16:57,  4.82s/it]"
     ]
    },
    {
     "name": "stdout",
     "output_type": "stream",
     "text": [
      "⚠️ HTTP error 404 Client Error: Not Found for url: https://www.gob.mx/presidencia/es/articulos/version-estenografica-conferencia-de-prensa-de-la-presidenta-claudia-sheinbaum-pardo-del-14-de-marzo-de-2025?idiom=es on https://www.gob.mx/presidencia/es/articulos/version-estenografica-conferencia-de-prensa-de-la-presidenta-claudia-sheinbaum-pardo-del-14-de-marzo-de-2025?idiom=es — skipping\n"
     ]
    },
    {
     "name": "stderr",
     "output_type": "stream",
     "text": [
      " 60%|██████    | 321/531 [33:16<14:43,  4.21s/it]"
     ]
    },
    {
     "name": "stdout",
     "output_type": "stream",
     "text": [
      "💾 Checkpoint saved (320 articles)\n"
     ]
    },
    {
     "name": "stderr",
     "output_type": "stream",
     "text": [
      " 61%|██████    | 323/531 [33:27<16:29,  4.76s/it]"
     ]
    },
    {
     "name": "stdout",
     "output_type": "stream",
     "text": [
      "⚠️ HTTP error 404 Client Error: Not Found for url: https://www.gob.mx/presidencia/es/articulos/version-estenografica-conferencia-de-prensa-de-la-presidenta-claudia-sheinbaum-pardo-del-11-de-marzo-de-2025?idiom=es on https://www.gob.mx/presidencia/es/articulos/version-estenografica-conferencia-de-prensa-de-la-presidenta-claudia-sheinbaum-pardo-del-11-de-marzo-de-2025?idiom=es — skipping\n"
     ]
    },
    {
     "name": "stderr",
     "output_type": "stream",
     "text": [
      " 61%|██████    | 324/531 [33:31<16:22,  4.74s/it]"
     ]
    },
    {
     "name": "stdout",
     "output_type": "stream",
     "text": [
      "⚠️ HTTP error 404 Client Error: Not Found for url: https://www.gob.mx/presidencia/es/articulos/version-estenografica-conferencia-de-prensa-de-la-presidenta-claudia-sheinbaum-pardo-del-10-de-marzo-de-2025?idiom=es on https://www.gob.mx/presidencia/es/articulos/version-estenografica-conferencia-de-prensa-de-la-presidenta-claudia-sheinbaum-pardo-del-10-de-marzo-de-2025?idiom=es — skipping\n"
     ]
    },
    {
     "name": "stderr",
     "output_type": "stream",
     "text": [
      " 61%|██████    | 325/531 [33:35<15:05,  4.40s/it]"
     ]
    },
    {
     "name": "stdout",
     "output_type": "stream",
     "text": [
      "⏳ Timeout or connection error on https://www.gob.mx/presidencia/es/articulos/version-estenografica-asamblea-informativa-en-el-zocalo-de-la-ciudad-de-mexico?idiom=es — retry 1/3 after 2.3s\n"
     ]
    },
    {
     "name": "stderr",
     "output_type": "stream",
     "text": [
      " 62%|██████▏   | 327/531 [34:06<30:23,  8.94s/it]"
     ]
    },
    {
     "name": "stdout",
     "output_type": "stream",
     "text": [
      "⏳ Timeout or connection error on https://www.gob.mx/presidencia/es/articulos/version-estenografica-conferencia-de-prensa-de-la-presidenta-claudia-sheinbaum-pardo-del-7-de-marzo-de-2025?idiom=es — retry 1/3 after 2.9s\n"
     ]
    },
    {
     "name": "stderr",
     "output_type": "stream",
     "text": [
      " 62%|██████▏   | 331/531 [34:45<25:08,  7.54s/it]"
     ]
    },
    {
     "name": "stdout",
     "output_type": "stream",
     "text": [
      "💾 Checkpoint saved (330 articles)\n"
     ]
    },
    {
     "name": "stderr",
     "output_type": "stream",
     "text": [
      " 63%|██████▎   | 334/531 [35:00<18:49,  5.73s/it]"
     ]
    },
    {
     "name": "stdout",
     "output_type": "stream",
     "text": [
      "⏳ Timeout or connection error on https://www.gob.mx/presidencia/es/articulos/version-estenografica-programas-para-el-bienestar-391785?idiom=es — retry 1/3 after 2.7s\n"
     ]
    },
    {
     "name": "stderr",
     "output_type": "stream",
     "text": [
      " 63%|██████▎   | 337/531 [35:34<25:23,  7.85s/it]"
     ]
    },
    {
     "name": "stdout",
     "output_type": "stream",
     "text": [
      "⏳ Timeout or connection error on https://www.gob.mx/presidencia/es/articulos/version-estenografica-conferencia-de-prensa-de-la-presidenta-claudia-sheinbaum-pardo-del-28-de-febrero-de-2025?idiom=es — retry 1/3 after 3.0s\n"
     ]
    },
    {
     "name": "stderr",
     "output_type": "stream",
     "text": [
      " 64%|██████▎   | 338/531 [36:02<44:27, 13.82s/it]"
     ]
    },
    {
     "name": "stdout",
     "output_type": "stream",
     "text": [
      "⚠️ HTTP error 404 Client Error: Not Found for url: https://www.gob.mx/presidencia/es/articulos/version-estenografica-conferencia-de-prensa-de-la-presidenta-claudia-sheinbaum-pardo-del-27-de-febrero-de-2025?idiom=es on https://www.gob.mx/presidencia/es/articulos/version-estenografica-conferencia-de-prensa-de-la-presidenta-claudia-sheinbaum-pardo-del-27-de-febrero-de-2025?idiom=es — skipping\n"
     ]
    },
    {
     "name": "stderr",
     "output_type": "stream",
     "text": [
      " 64%|██████▍   | 341/531 [36:13<23:09,  7.32s/it]"
     ]
    },
    {
     "name": "stdout",
     "output_type": "stream",
     "text": [
      "💾 Checkpoint saved (340 articles)\n"
     ]
    },
    {
     "name": "stderr",
     "output_type": "stream",
     "text": [
      " 66%|██████▌   | 351/531 [36:58<14:16,  4.76s/it]"
     ]
    },
    {
     "name": "stdout",
     "output_type": "stream",
     "text": [
      "💾 Checkpoint saved (350 articles)\n"
     ]
    },
    {
     "name": "stderr",
     "output_type": "stream",
     "text": [
      " 68%|██████▊   | 361/531 [37:42<14:04,  4.97s/it]"
     ]
    },
    {
     "name": "stdout",
     "output_type": "stream",
     "text": [
      "💾 Checkpoint saved (360 articles)\n",
      "⏳ Timeout or connection error on https://www.gob.mx/presidencia/es/articulos/version-estenografica-110-aniversario-de-la-fuerza-aerea-mexicana-inauguracion-de-la-base-aerea-militar-numero-20?idiom=es — retry 1/3 after 2.1s\n",
      "⏳ Timeout or connection error on https://www.gob.mx/presidencia/es/articulos/version-estenografica-110-aniversario-de-la-fuerza-aerea-mexicana-inauguracion-de-la-base-aerea-militar-numero-20?idiom=es — retry 2/3 after 4.4s\n"
     ]
    },
    {
     "name": "stderr",
     "output_type": "stream",
     "text": [
      " 69%|██████▊   | 364/531 [38:42<31:40, 11.38s/it]"
     ]
    },
    {
     "name": "stdout",
     "output_type": "stream",
     "text": [
      "⚠️ HTTP error 404 Client Error: Not Found for url: https://www.gob.mx/presidencia/es/articulos/version-estenografica-fertilizantes-para-el-bienestar?idiom=es on https://www.gob.mx/presidencia/es/articulos/version-estenografica-fertilizantes-para-el-bienestar?idiom=es — skipping\n"
     ]
    },
    {
     "name": "stderr",
     "output_type": "stream",
     "text": [
      " 69%|██████▉   | 366/531 [38:48<19:36,  7.13s/it]"
     ]
    },
    {
     "name": "stdout",
     "output_type": "stream",
     "text": [
      "⏳ Timeout or connection error on https://www.gob.mx/presidencia/es/articulos/version-estenografica-inauguracion-clinica-de-medicina-familiar-de-especialidades-issste?idiom=es — retry 1/3 after 2.3s\n"
     ]
    },
    {
     "name": "stderr",
     "output_type": "stream",
     "text": [
      " 70%|██████▉   | 371/531 [39:31<15:52,  5.95s/it]"
     ]
    },
    {
     "name": "stdout",
     "output_type": "stream",
     "text": [
      "💾 Checkpoint saved (370 articles)\n"
     ]
    },
    {
     "name": "stderr",
     "output_type": "stream",
     "text": [
      " 72%|███████▏  | 380/531 [40:07<10:52,  4.32s/it]"
     ]
    },
    {
     "name": "stdout",
     "output_type": "stream",
     "text": [
      "⏳ Timeout or connection error on https://www.gob.mx/presidencia/es/articulos/version-estenografica-entrega-de-tarjetas-del-programa-de-mejoramiento-de-vivienda-para-el-bienestar?idiom=es — retry 1/3 after 2.0s\n"
     ]
    },
    {
     "name": "stderr",
     "output_type": "stream",
     "text": [
      " 72%|███████▏  | 381/531 [40:34<28:22, 11.35s/it]"
     ]
    },
    {
     "name": "stdout",
     "output_type": "stream",
     "text": [
      "💾 Checkpoint saved (380 articles)\n"
     ]
    },
    {
     "name": "stderr",
     "output_type": "stream",
     "text": [
      " 72%|███████▏  | 382/531 [40:40<23:45,  9.57s/it]"
     ]
    },
    {
     "name": "stdout",
     "output_type": "stream",
     "text": [
      "⏳ Timeout or connection error on https://www.gob.mx/presidencia/es/articulos/version-estenografica-entrega-de-tarjetas-vivienda-para-el-bienestar-389303?idiom=es — retry 1/3 after 3.0s\n"
     ]
    },
    {
     "name": "stderr",
     "output_type": "stream",
     "text": [
      " 74%|███████▎  | 391/531 [41:40<10:21,  4.44s/it]"
     ]
    },
    {
     "name": "stdout",
     "output_type": "stream",
     "text": [
      "💾 Checkpoint saved (390 articles)\n"
     ]
    },
    {
     "name": "stderr",
     "output_type": "stream",
     "text": [
      " 74%|███████▍  | 393/531 [41:48<09:28,  4.12s/it]"
     ]
    },
    {
     "name": "stdout",
     "output_type": "stream",
     "text": [
      "⏳ Timeout or connection error on https://www.gob.mx/presidencia/es/articulos/version-estenografica-conferencia-de-prensa-de-la-presidenta-claudia-sheinbaum-pardo-del-23-de-enero-de-2025?idiom=es — retry 1/3 after 2.7s\n"
     ]
    },
    {
     "name": "stderr",
     "output_type": "stream",
     "text": [
      " 76%|███████▌  | 401/531 [42:42<09:17,  4.29s/it]"
     ]
    },
    {
     "name": "stdout",
     "output_type": "stream",
     "text": [
      "💾 Checkpoint saved (400 articles)\n"
     ]
    },
    {
     "name": "stderr",
     "output_type": "stream",
     "text": [
      " 76%|███████▋  | 405/531 [43:00<09:09,  4.36s/it]"
     ]
    },
    {
     "name": "stdout",
     "output_type": "stream",
     "text": [
      "⏳ Timeout or connection error on https://www.gob.mx/presidencia/es/articulos/version-estenografica-conferencia-de-prensa-de-la-presidenta-claudia-sheinbaum-pardo-del-16-de-enero-de-2025?idiom=es — retry 1/3 after 2.5s\n"
     ]
    },
    {
     "name": "stderr",
     "output_type": "stream",
     "text": [
      " 77%|███████▋  | 411/531 [43:45<09:45,  4.88s/it]"
     ]
    },
    {
     "name": "stdout",
     "output_type": "stream",
     "text": [
      "💾 Checkpoint saved (410 articles)\n"
     ]
    },
    {
     "name": "stderr",
     "output_type": "stream",
     "text": [
      " 78%|███████▊  | 416/531 [44:05<07:15,  3.79s/it]"
     ]
    },
    {
     "name": "stdout",
     "output_type": "stream",
     "text": [
      "⏳ Timeout or connection error on https://www.gob.mx/presidencia/es/articulos/version-estenografica-reapertura-del-segundo-piso-del-museo-nacional-de-antropologia-grandeza-y-diversidad-cultural-de-mexico?idiom=es — retry 1/3 after 2.1s\n"
     ]
    },
    {
     "name": "stderr",
     "output_type": "stream",
     "text": [
      " 79%|███████▉  | 420/531 [44:42<11:11,  6.05s/it]"
     ]
    },
    {
     "name": "stdout",
     "output_type": "stream",
     "text": [
      "⏳ Timeout or connection error on https://www.gob.mx/presidencia/es/articulos/version-estenografica-entrega-de-tarjetas-de-la-pension-mujeres-bienestar?idiom=es — retry 1/3 after 2.8s\n",
      "⏳ Timeout or connection error on https://www.gob.mx/presidencia/es/articulos/version-estenografica-entrega-de-tarjetas-de-la-pension-mujeres-bienestar?idiom=es — retry 2/3 after 4.4s\n"
     ]
    },
    {
     "name": "stderr",
     "output_type": "stream",
     "text": [
      " 79%|███████▉  | 421/531 [45:34<36:23, 19.85s/it]"
     ]
    },
    {
     "name": "stdout",
     "output_type": "stream",
     "text": [
      "💾 Checkpoint saved (420 articles)\n"
     ]
    },
    {
     "name": "stderr",
     "output_type": "stream",
     "text": [
      " 80%|████████  | 426/531 [45:56<12:39,  7.23s/it]"
     ]
    },
    {
     "name": "stdout",
     "output_type": "stream",
     "text": [
      "⏳ Timeout or connection error on https://www.gob.mx/presidencia/es/articulos/version-estenografica-programas-para-el-bienestar-386975?idiom=es — retry 1/3 after 2.4s\n"
     ]
    },
    {
     "name": "stderr",
     "output_type": "stream",
     "text": [
      " 80%|████████  | 427/531 [46:23<23:00, 13.28s/it]"
     ]
    },
    {
     "name": "stdout",
     "output_type": "stream",
     "text": [
      "⚠️ HTTP error 404 Client Error: Not Found for url: https://www.gob.mx/presidencia/es/articulos/version-estenografica-inauguracion-de-la-autopista-jala-puerto-vallarta?idiom=es on https://www.gob.mx/presidencia/es/articulos/version-estenografica-inauguracion-de-la-autopista-jala-puerto-vallarta?idiom=es — skipping\n"
     ]
    },
    {
     "name": "stderr",
     "output_type": "stream",
     "text": [
      " 81%|████████  | 429/531 [46:30<14:14,  8.38s/it]"
     ]
    },
    {
     "name": "stdout",
     "output_type": "stream",
     "text": [
      "⏳ Timeout or connection error on https://www.gob.mx/presidencia/es/articulos/version-estenografica-conferencia-de-prensa-de-la-presidenta-claudia-sheinbaum-pardo-del-26-de-diciembre-de-2024?idiom=es — retry 1/3 after 2.9s\n"
     ]
    },
    {
     "name": "stderr",
     "output_type": "stream",
     "text": [
      " 81%|████████  | 430/531 [46:59<24:14, 14.40s/it]"
     ]
    },
    {
     "name": "stdout",
     "output_type": "stream",
     "text": [
      "⏳ Timeout or connection error on https://www.gob.mx/presidencia/es/articulos/version-estenografica-conferencia-de-prensa-de-la-presidenta-claudia-sheinbaum-pardo-del-23-de-diciembre-de-2024?idiom=es — retry 1/3 after 2.7s\n",
      "⏳ Timeout or connection error on https://www.gob.mx/presidencia/es/articulos/version-estenografica-conferencia-de-prensa-de-la-presidenta-claudia-sheinbaum-pardo-del-23-de-diciembre-de-2024?idiom=es — retry 2/3 after 4.2s\n"
     ]
    },
    {
     "name": "stderr",
     "output_type": "stream",
     "text": [
      " 81%|████████  | 431/531 [47:52<43:25, 26.05s/it]"
     ]
    },
    {
     "name": "stdout",
     "output_type": "stream",
     "text": [
      "💾 Checkpoint saved (430 articles)\n"
     ]
    },
    {
     "name": "stderr",
     "output_type": "stream",
     "text": [
      " 83%|████████▎ | 441/531 [48:33<07:01,  4.68s/it]"
     ]
    },
    {
     "name": "stdout",
     "output_type": "stream",
     "text": [
      "💾 Checkpoint saved (440 articles)\n"
     ]
    },
    {
     "name": "stderr",
     "output_type": "stream",
     "text": [
      " 85%|████████▍ | 451/531 [49:18<06:24,  4.81s/it]"
     ]
    },
    {
     "name": "stdout",
     "output_type": "stream",
     "text": [
      "💾 Checkpoint saved (450 articles)\n"
     ]
    },
    {
     "name": "stderr",
     "output_type": "stream",
     "text": [
      " 87%|████████▋ | 461/531 [49:55<04:21,  3.74s/it]"
     ]
    },
    {
     "name": "stdout",
     "output_type": "stream",
     "text": [
      "💾 Checkpoint saved (460 articles)\n"
     ]
    },
    {
     "name": "stderr",
     "output_type": "stream",
     "text": [
      " 88%|████████▊ | 469/531 [50:28<04:35,  4.44s/it]"
     ]
    },
    {
     "name": "stdout",
     "output_type": "stream",
     "text": [
      "⏳ Timeout or connection error on https://www.gob.mx/presidencia/es/articulos/version-estenografica-199-aniversario-de-la-consolidacion-de-la-independencia-en-el-mar?idiom=es — retry 1/3 after 2.8s\n"
     ]
    },
    {
     "name": "stderr",
     "output_type": "stream",
     "text": [
      " 89%|████████▊ | 471/531 [51:00<09:21,  9.35s/it]"
     ]
    },
    {
     "name": "stdout",
     "output_type": "stream",
     "text": [
      "💾 Checkpoint saved (470 articles)\n",
      "⏳ Timeout or connection error on https://www.gob.mx/presidencia/es/articulos/version-estenografica-conferencia-de-prensa-de-la-presidenta-claudia-sheinbaum-pardo-del-21-de-noviembre-de-2024?idiom=es — retry 1/3 after 2.1s\n"
     ]
    },
    {
     "name": "stderr",
     "output_type": "stream",
     "text": [
      " 91%|█████████ | 481/531 [52:05<04:13,  5.07s/it]"
     ]
    },
    {
     "name": "stdout",
     "output_type": "stream",
     "text": [
      "💾 Checkpoint saved (480 articles)\n"
     ]
    },
    {
     "name": "stderr",
     "output_type": "stream",
     "text": [
      " 92%|█████████▏| 491/531 [52:41<02:16,  3.40s/it]"
     ]
    },
    {
     "name": "stdout",
     "output_type": "stream",
     "text": [
      "💾 Checkpoint saved (490 articles)\n"
     ]
    },
    {
     "name": "stderr",
     "output_type": "stream",
     "text": [
      " 94%|█████████▍| 501/531 [53:25<02:00,  4.03s/it]"
     ]
    },
    {
     "name": "stdout",
     "output_type": "stream",
     "text": [
      "💾 Checkpoint saved (500 articles)\n"
     ]
    },
    {
     "name": "stderr",
     "output_type": "stream",
     "text": [
      " 96%|█████████▌| 511/531 [54:07<01:27,  4.37s/it]"
     ]
    },
    {
     "name": "stdout",
     "output_type": "stream",
     "text": [
      "💾 Checkpoint saved (510 articles)\n",
      "⏳ Timeout or connection error on https://www.gob.mx/presidencia/es/articulos/version-estenografica-conferencia-de-prensa-de-la-presidenta-claudia-sheinbaum-pardo-del-15-de-octubre-de-2024?idiom=es — retry 1/3 after 2.6s\n"
     ]
    },
    {
     "name": "stderr",
     "output_type": "stream",
     "text": [
      " 97%|█████████▋| 515/531 [54:49<01:52,  7.05s/it]"
     ]
    },
    {
     "name": "stdout",
     "output_type": "stream",
     "text": [
      "⏳ Timeout or connection error on https://www.gob.mx/presidencia/es/articulos/version-estenografica-conferencia-de-prensa-de-la-presidenta-claudia-sheinbaum-pardo-del-11-de-octubre-de-2024?idiom=es — retry 1/3 after 2.3s\n",
      "⏳ Timeout or connection error on https://www.gob.mx/presidencia/es/articulos/version-estenografica-conferencia-de-prensa-de-la-presidenta-claudia-sheinbaum-pardo-del-11-de-octubre-de-2024?idiom=es — retry 2/3 after 4.7s\n"
     ]
    },
    {
     "name": "stderr",
     "output_type": "stream",
     "text": [
      " 98%|█████████▊| 521/531 [56:03<01:13,  7.37s/it]"
     ]
    },
    {
     "name": "stdout",
     "output_type": "stream",
     "text": [
      "💾 Checkpoint saved (520 articles)\n"
     ]
    },
    {
     "name": "stderr",
     "output_type": "stream",
     "text": [
      " 99%|█████████▉| 528/531 [56:29<00:13,  4.39s/it]"
     ]
    },
    {
     "name": "stdout",
     "output_type": "stream",
     "text": [
      "⏳ Timeout or connection error on https://www.gob.mx/presidencia/es/articulos/version-estenografica-toma-de-protesta-ante-el-pueblo-de-mexico?idiom=es — retry 1/3 after 2.1s\n"
     ]
    },
    {
     "name": "stderr",
     "output_type": "stream",
     "text": [
      "100%|██████████| 531/531 [57:05<00:00,  6.45s/it]"
     ]
    },
    {
     "name": "stdout",
     "output_type": "stream",
     "text": [
      "💾 Checkpoint saved (530 articles)\n"
     ]
    },
    {
     "name": "stderr",
     "output_type": "stream",
     "text": [
      "\n"
     ]
    },
    {
     "name": "stdout",
     "output_type": "stream",
     "text": [
      "✅ Saved 531 full transcripts.\n"
     ]
    }
   ],
   "source": [
    "df_meta = pd.read_csv(\"../data/raw/article_metadata.csv\")\n",
    "# --- Scrape all articles ---\n",
    "data = []\n",
    "\n",
    "for i, row in tqdm(df_meta.iterrows(), total=len(df_meta)):\n",
    "    url = row[\"url\"]\n",
    "    if pd.isna(url):\n",
    "        continue\n",
    "\n",
    "    transcript_structured = get_transcript_structured(url)\n",
    "    article = {\n",
    "        \"date\": row[\"date\"],\n",
    "        \"title\": row[\"title\"],\n",
    "        \"url\": url,\n",
    "        \"transcript\": transcript_structured\n",
    "    }\n",
    "    data.append(article)\n",
    "\n",
    "    time.sleep(random.uniform(2, 5))\n",
    "\n",
    "    # checkpoint every 10\n",
    "    if i % 10 == 0 and i > 0:\n",
    "        with open(\"../data/raw/article_transcripts_checkpoint.json\", \"w\", encoding=\"utf-8\") as f:\n",
    "            json.dump(data, f, ensure_ascii=False, indent=2)\n",
    "        print(f\"💾 Checkpoint saved ({i} articles)\")\n",
    "\n",
    "# final save\n",
    "with open(\"../data/processed/article_transcripts.json\", \"w\", encoding=\"utf-8\") as f:\n",
    "    json.dump(data, f, ensure_ascii=False, indent=2)\n",
    "\n",
    "print(f\"✅ Saved {len(data)} full transcripts.\")"
   ]
  }
 ],
 "metadata": {
  "kernelspec": {
   "display_name": "Python 3",
   "language": "python",
   "name": "python3"
  },
  "language_info": {
   "codemirror_mode": {
    "name": "ipython",
    "version": 3
   },
   "file_extension": ".py",
   "mimetype": "text/x-python",
   "name": "python",
   "nbconvert_exporter": "python",
   "pygments_lexer": "ipython3",
   "version": "3.9.6"
  }
 },
 "nbformat": 4,
 "nbformat_minor": 5
}
