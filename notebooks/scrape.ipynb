{
 "cells": [
  {
   "cell_type": "code",
   "execution_count": 56,
   "id": "4c764726",
   "metadata": {},
   "outputs": [],
   "source": [
    "import requests\n",
    "import re\n",
    "import html\n",
    "from bs4 import BeautifulSoup\n",
    "from tqdm import tqdm\n",
    "import pandas as pd\n",
    "import time\n",
    "import os\n",
    "import random\n",
    "\n",
    "\n",
    "BASE_URL = \"https://www.gob.mx\"\n",
    "ARCHIVE_URL = f\"{BASE_URL}/presidencia/es/archivo/articulos?filter_origin=archive&idiom=es&order=DESC&page=\"\n"
   ]
  },
  {
   "cell_type": "code",
   "execution_count": 57,
   "id": "2e77e167",
   "metadata": {},
   "outputs": [],
   "source": [
    "def get_articles_from_page(page_num):\n",
    "    \"\"\"\n",
    "    Extract clean titles, URLs, and dates from Gob.mx dynamic HTML.\n",
    "    Args:\n",
    "        page_num (int): Page number to scrape.\n",
    "    Returns:\n",
    "        list of dict: Each dict contains 'title', 'url', and 'date' keys\n",
    "    \"\"\"\n",
    "    url = f\"{ARCHIVE_URL}{page_num}\"\n",
    "    r = requests.get(url)\n",
    "    r.raise_for_status()\n",
    "    text = r.text\n",
    "\n",
    "    # Extract JS-embedded HTML fragments\n",
    "    fragments = re.findall(r\"\\$\\('#prensa'\\)\\.append\\('(.+?)'\\);\", text, flags=re.DOTALL)\n",
    "\n",
    "    articles_out = []\n",
    "\n",
    "    for frag in fragments:\n",
    "        # Step 1: Decode HTML entities (e.g. &lt;, &quot;)\n",
    "        frag_clean = html.unescape(frag)\n",
    "        # Step 2: Replace escaped quotes \\\" → \"\n",
    "        frag_clean = frag_clean.replace('\\\\\"', '\"').replace(\"\\\\'\", \"'\")\n",
    "        # Step 3: Remove stray backslashes that break tags\n",
    "        frag_clean = frag_clean.replace(\"\\\\n\", \"\").replace(\"\\\\\", \"\")\n",
    "        # Step 4: Parse\n",
    "        soup = BeautifulSoup(frag_clean, \"html.parser\")\n",
    "\n",
    "        # Extract all article cards\n",
    "        for art in soup.find_all(\"article\"):\n",
    "            title_el = art.find(\"h2\")\n",
    "            link_el = art.find(\"a\", class_=\"small-link\")\n",
    "            date_el = art.find(\"time\")\n",
    "\n",
    "            title = title_el.get_text(strip=True) if title_el else None\n",
    "            date = date_el.get_text(strip=True) if date_el else None\n",
    "\n",
    "            # Some hrefs may end with ?idiom=es\n",
    "            if link_el and link_el.has_attr(\"href\"):\n",
    "                href = link_el[\"href\"].strip('\"')\n",
    "                if href.startswith(\"/\"):\n",
    "                    href = BASE_URL + href\n",
    "            else:\n",
    "                href = None\n",
    "\n",
    "            if title or href:\n",
    "                articles_out.append({\n",
    "                    \"title\": title,\n",
    "                    \"url\": href,\n",
    "                    \"date\": date\n",
    "                })\n",
    "    return articles_out"
   ]
  },
  {
   "cell_type": "code",
   "execution_count": 58,
   "id": "8947a447",
   "metadata": {},
   "outputs": [],
   "source": [
    "def scrape_all_articles(max_pages=50, retries=3):\n",
    "    \"\"\"\n",
    "    Scrape articles from multiple pages and save metadata to CSV.\n",
    "    \n",
    "    Args:\n",
    "        max_pages (int): Maximum number of pages to scrape.\n",
    "\n",
    "    Returns:\n",
    "        pd.DataFrame: DataFrame containing all scraped articles.\n",
    "    \"\"\"\n",
    "    all_data = []\n",
    "    output_dir = os.path.join(\"..\", \"data\", \"raw\")\n",
    "    os.makedirs(output_dir, exist_ok=True)\n",
    "    output_path = os.path.join(output_dir, \"article_metadata.csv\")\n",
    "\n",
    "    headers = {\n",
    "        \"User-Agent\": \"Mozilla/5.0 (compatible; MañanerasScraper/1.0; +https://github.com/yourproject)\"\n",
    "    }\n",
    "\n",
    "    for page in tqdm(range(1, max_pages + 1)):\n",
    "        success = False\n",
    "        for attempt in range(retries):\n",
    "            try:\n",
    "                # Add headers to avoid being mistaken for a bot\n",
    "                page_data = get_articles_from_page(page)\n",
    "                if not page_data:\n",
    "                    print(f\"No more data after page {page}.\")\n",
    "                    success = True\n",
    "                    break\n",
    "\n",
    "                all_data.extend(page_data)\n",
    "                success = True\n",
    "                break  # Exit retry loop\n",
    "\n",
    "            except requests.exceptions.HTTPError as e:\n",
    "                print(f\"⚠️ HTTP error on page {page}: {e}. Retrying ({attempt+1}/{retries})...\")\n",
    "                time.sleep(random.uniform(5, 10))  # wait before retry\n",
    "            except Exception as e:\n",
    "                print(f\"⚠️ Other error on page {page}: {e}. Retrying...\")\n",
    "                time.sleep(random.uniform(5, 10))\n",
    "\n",
    "        if not success:\n",
    "            print(f\"❌ Failed to fetch page {page} after {retries} retries. Skipping...\")\n",
    "            continue\n",
    "\n",
    "        # Random polite delay between pages\n",
    "        time.sleep(random.uniform(2, 5))\n",
    "\n",
    "        # Save progress every 5 pages\n",
    "        if page % 5 == 0:\n",
    "            df_tmp = pd.DataFrame(all_data)\n",
    "            df_tmp.to_csv(output_path, index=False)\n",
    "            print(f\"💾 Checkpoint saved at page {page}\")\n",
    "\n",
    "    # Final save\n",
    "    df = pd.DataFrame(all_data)\n",
    "    df.to_csv(output_path, index=False)\n",
    "    print(f\"\\n✅ Saved {len(df)} articles to {output_path}\")\n",
    "\n",
    "    return df"
   ]
  },
  {
   "cell_type": "code",
   "execution_count": 59,
   "id": "fc1cf060",
   "metadata": {},
   "outputs": [
    {
     "name": "stderr",
     "output_type": "stream",
     "text": [
      "  8%|▊         | 5/59 [00:18<03:29,  3.88s/it]"
     ]
    },
    {
     "name": "stdout",
     "output_type": "stream",
     "text": [
      "💾 Checkpoint saved at page 5\n"
     ]
    },
    {
     "name": "stderr",
     "output_type": "stream",
     "text": [
      " 17%|█▋        | 10/59 [01:37<18:15, 22.36s/it]"
     ]
    },
    {
     "name": "stdout",
     "output_type": "stream",
     "text": [
      "💾 Checkpoint saved at page 10\n"
     ]
    },
    {
     "name": "stderr",
     "output_type": "stream",
     "text": [
      " 25%|██▌       | 15/59 [02:59<18:27, 25.17s/it]"
     ]
    },
    {
     "name": "stdout",
     "output_type": "stream",
     "text": [
      "💾 Checkpoint saved at page 15\n"
     ]
    },
    {
     "name": "stderr",
     "output_type": "stream",
     "text": [
      " 34%|███▍      | 20/59 [03:16<04:34,  7.04s/it]"
     ]
    },
    {
     "name": "stdout",
     "output_type": "stream",
     "text": [
      "💾 Checkpoint saved at page 20\n"
     ]
    },
    {
     "name": "stderr",
     "output_type": "stream",
     "text": [
      " 42%|████▏     | 25/59 [03:37<02:44,  4.85s/it]"
     ]
    },
    {
     "name": "stdout",
     "output_type": "stream",
     "text": [
      "💾 Checkpoint saved at page 25\n"
     ]
    },
    {
     "name": "stderr",
     "output_type": "stream",
     "text": [
      " 51%|█████     | 30/59 [03:54<01:43,  3.58s/it]"
     ]
    },
    {
     "name": "stdout",
     "output_type": "stream",
     "text": [
      "💾 Checkpoint saved at page 30\n"
     ]
    },
    {
     "name": "stderr",
     "output_type": "stream",
     "text": [
      " 59%|█████▉    | 35/59 [04:18<01:48,  4.53s/it]"
     ]
    },
    {
     "name": "stdout",
     "output_type": "stream",
     "text": [
      "💾 Checkpoint saved at page 35\n"
     ]
    },
    {
     "name": "stderr",
     "output_type": "stream",
     "text": [
      " 68%|██████▊   | 40/59 [05:38<04:07, 13.01s/it]"
     ]
    },
    {
     "name": "stdout",
     "output_type": "stream",
     "text": [
      "💾 Checkpoint saved at page 40\n"
     ]
    },
    {
     "name": "stderr",
     "output_type": "stream",
     "text": [
      " 76%|███████▋  | 45/59 [05:56<01:08,  4.90s/it]"
     ]
    },
    {
     "name": "stdout",
     "output_type": "stream",
     "text": [
      "💾 Checkpoint saved at page 45\n"
     ]
    },
    {
     "name": "stderr",
     "output_type": "stream",
     "text": [
      " 85%|████████▍ | 50/59 [06:16<00:36,  4.00s/it]"
     ]
    },
    {
     "name": "stdout",
     "output_type": "stream",
     "text": [
      "💾 Checkpoint saved at page 50\n"
     ]
    },
    {
     "name": "stderr",
     "output_type": "stream",
     "text": [
      " 93%|█████████▎| 55/59 [06:37<00:15,  3.92s/it]"
     ]
    },
    {
     "name": "stdout",
     "output_type": "stream",
     "text": [
      "💾 Checkpoint saved at page 55\n"
     ]
    },
    {
     "name": "stderr",
     "output_type": "stream",
     "text": [
      "100%|██████████| 59/59 [06:55<00:00,  7.04s/it]"
     ]
    },
    {
     "name": "stdout",
     "output_type": "stream",
     "text": [
      "\n",
      "✅ Saved 531 articles to ../data/raw/article_metadata.csv\n"
     ]
    },
    {
     "name": "stderr",
     "output_type": "stream",
     "text": [
      "\n"
     ]
    },
    {
     "data": {
      "text/html": [
       "<div>\n",
       "<style scoped>\n",
       "    .dataframe tbody tr th:only-of-type {\n",
       "        vertical-align: middle;\n",
       "    }\n",
       "\n",
       "    .dataframe tbody tr th {\n",
       "        vertical-align: top;\n",
       "    }\n",
       "\n",
       "    .dataframe thead th {\n",
       "        text-align: right;\n",
       "    }\n",
       "</style>\n",
       "<table border=\"1\" class=\"dataframe\">\n",
       "  <thead>\n",
       "    <tr style=\"text-align: right;\">\n",
       "      <th></th>\n",
       "      <th>title</th>\n",
       "      <th>url</th>\n",
       "      <th>date</th>\n",
       "    </tr>\n",
       "  </thead>\n",
       "  <tbody>\n",
       "    <tr>\n",
       "      <th>0</th>\n",
       "      <td>Versión estenográfica. Mensaje de la President...</td>\n",
       "      <td>https://www.gob.mx/presidencia/es/articulos/ve...</td>\n",
       "      <td>jueves, 16 de octubre de 2025Fecha de publicación</td>\n",
       "    </tr>\n",
       "    <tr>\n",
       "      <th>1</th>\n",
       "      <td>Versión estenográfica. Conferencia de prensa d...</td>\n",
       "      <td>https://www.gob.mx/presidencia/es/articulos/ve...</td>\n",
       "      <td>jueves, 16 de octubre de 2025Fecha de publicación</td>\n",
       "    </tr>\n",
       "    <tr>\n",
       "      <th>2</th>\n",
       "      <td>Versión estenográfica. Conferencia de prensa d...</td>\n",
       "      <td>https://www.gob.mx/presidencia/es/articulos/ve...</td>\n",
       "      <td>miércoles, 15 de octubre de 2025Fecha de publi...</td>\n",
       "    </tr>\n",
       "    <tr>\n",
       "      <th>3</th>\n",
       "      <td>Versión estenográfica. Conferencia de prensa d...</td>\n",
       "      <td>https://www.gob.mx/presidencia/es/articulos/ve...</td>\n",
       "      <td>martes, 14 de octubre de 2025Fecha de publicación</td>\n",
       "    </tr>\n",
       "    <tr>\n",
       "      <th>4</th>\n",
       "      <td>Versión estenográfica. Conferencia de prensa d...</td>\n",
       "      <td>https://www.gob.mx/presidencia/es/articulos/ve...</td>\n",
       "      <td>lunes, 13 de octubre de 2025Fecha de publicación</td>\n",
       "    </tr>\n",
       "    <tr>\n",
       "      <th>...</th>\n",
       "      <td>...</td>\n",
       "      <td>...</td>\n",
       "      <td>...</td>\n",
       "    </tr>\n",
       "    <tr>\n",
       "      <th>526</th>\n",
       "      <td>Versión estenográfica. Conferencia de prensa d...</td>\n",
       "      <td>https://www.gob.mx/presidencia/es/articulos/ve...</td>\n",
       "      <td>jueves, 03 de octubre de 2024Fecha de publicación</td>\n",
       "    </tr>\n",
       "    <tr>\n",
       "      <th>527</th>\n",
       "      <td>Versión estenográfica. Conferencia de prensa d...</td>\n",
       "      <td>https://www.gob.mx/presidencia/es/articulos/ve...</td>\n",
       "      <td>miércoles, 02 de octubre de 2024Fecha de publi...</td>\n",
       "    </tr>\n",
       "    <tr>\n",
       "      <th>528</th>\n",
       "      <td>Versión estenográfica. Toma de protesta ante e...</td>\n",
       "      <td>https://www.gob.mx/presidencia/es/articulos/ve...</td>\n",
       "      <td>martes, 01 de octubre de 2024Fecha de publicación</td>\n",
       "    </tr>\n",
       "    <tr>\n",
       "      <th>529</th>\n",
       "      <td>Versión estenográfica. Mensaje de la president...</td>\n",
       "      <td>https://www.gob.mx/presidencia/es/articulos/ve...</td>\n",
       "      <td>martes, 01 de octubre de 2024Fecha de publicación</td>\n",
       "    </tr>\n",
       "    <tr>\n",
       "      <th>530</th>\n",
       "      <td>Versión estenográfica. Toma de protesta de Cla...</td>\n",
       "      <td>https://www.gob.mx/presidencia/es/articulos/ve...</td>\n",
       "      <td>martes, 01 de octubre de 2024Fecha de publicación</td>\n",
       "    </tr>\n",
       "  </tbody>\n",
       "</table>\n",
       "<p>531 rows × 3 columns</p>\n",
       "</div>"
      ],
      "text/plain": [
       "                                                 title  \\\n",
       "0    Versión estenográfica. Mensaje de la President...   \n",
       "1    Versión estenográfica. Conferencia de prensa d...   \n",
       "2    Versión estenográfica. Conferencia de prensa d...   \n",
       "3    Versión estenográfica. Conferencia de prensa d...   \n",
       "4    Versión estenográfica. Conferencia de prensa d...   \n",
       "..                                                 ...   \n",
       "526  Versión estenográfica. Conferencia de prensa d...   \n",
       "527  Versión estenográfica. Conferencia de prensa d...   \n",
       "528  Versión estenográfica. Toma de protesta ante e...   \n",
       "529  Versión estenográfica. Mensaje de la president...   \n",
       "530  Versión estenográfica. Toma de protesta de Cla...   \n",
       "\n",
       "                                                   url  \\\n",
       "0    https://www.gob.mx/presidencia/es/articulos/ve...   \n",
       "1    https://www.gob.mx/presidencia/es/articulos/ve...   \n",
       "2    https://www.gob.mx/presidencia/es/articulos/ve...   \n",
       "3    https://www.gob.mx/presidencia/es/articulos/ve...   \n",
       "4    https://www.gob.mx/presidencia/es/articulos/ve...   \n",
       "..                                                 ...   \n",
       "526  https://www.gob.mx/presidencia/es/articulos/ve...   \n",
       "527  https://www.gob.mx/presidencia/es/articulos/ve...   \n",
       "528  https://www.gob.mx/presidencia/es/articulos/ve...   \n",
       "529  https://www.gob.mx/presidencia/es/articulos/ve...   \n",
       "530  https://www.gob.mx/presidencia/es/articulos/ve...   \n",
       "\n",
       "                                                  date  \n",
       "0    jueves, 16 de octubre de 2025Fecha de publicación  \n",
       "1    jueves, 16 de octubre de 2025Fecha de publicación  \n",
       "2    miércoles, 15 de octubre de 2025Fecha de publi...  \n",
       "3    martes, 14 de octubre de 2025Fecha de publicación  \n",
       "4     lunes, 13 de octubre de 2025Fecha de publicación  \n",
       "..                                                 ...  \n",
       "526  jueves, 03 de octubre de 2024Fecha de publicación  \n",
       "527  miércoles, 02 de octubre de 2024Fecha de publi...  \n",
       "528  martes, 01 de octubre de 2024Fecha de publicación  \n",
       "529  martes, 01 de octubre de 2024Fecha de publicación  \n",
       "530  martes, 01 de octubre de 2024Fecha de publicación  \n",
       "\n",
       "[531 rows x 3 columns]"
      ]
     },
     "execution_count": 59,
     "metadata": {},
     "output_type": "execute_result"
    }
   ],
   "source": [
    "scrape_all_articles(max_pages=59)"
   ]
  }
 ],
 "metadata": {
  "kernelspec": {
   "display_name": "Python 3",
   "language": "python",
   "name": "python3"
  },
  "language_info": {
   "codemirror_mode": {
    "name": "ipython",
    "version": 3
   },
   "file_extension": ".py",
   "mimetype": "text/x-python",
   "name": "python",
   "nbconvert_exporter": "python",
   "pygments_lexer": "ipython3",
   "version": "3.9.6"
  }
 },
 "nbformat": 4,
 "nbformat_minor": 5
}
